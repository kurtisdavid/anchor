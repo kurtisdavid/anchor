{
 "cells": [
  {
   "cell_type": "code",
   "execution_count": 3,
   "metadata": {},
   "outputs": [],
   "source": [
    "import glob"
   ]
  },
  {
   "cell_type": "code",
   "execution_count": 4,
   "metadata": {},
   "outputs": [],
   "source": [
    "neg = glob.glob('./data/txt_sentoken/neg/*')"
   ]
  },
  {
   "cell_type": "code",
   "execution_count": 7,
   "metadata": {},
   "outputs": [],
   "source": [
    "with open('rt-polarity.neg','w') as final:\n",
    "    for f in neg:\n",
    "        with open(f) as file:\n",
    "            buffer = \"\"\n",
    "            for line in file:\n",
    "                buffer += line.replace(\"\\n\", \" \") + \" \"\n",
    "            final.write(buffer.strip() + \"\\n\")"
   ]
  },
  {
   "cell_type": "code",
   "execution_count": 8,
   "metadata": {},
   "outputs": [],
   "source": [
    "pos = glob.glob('./data/txt_sentoken/pos/*')"
   ]
  },
  {
   "cell_type": "code",
   "execution_count": 9,
   "metadata": {},
   "outputs": [],
   "source": [
    "with open('rt-polarity.pos','w') as final:\n",
    "    for f in pos:\n",
    "        with open(f) as file:\n",
    "            buffer = \"\"\n",
    "            for line in file:\n",
    "                buffer += line.replace(\"\\n\", \" \") + \" \"\n",
    "            final.write(buffer.strip() + \"\\n\")"
   ]
  },
  {
   "cell_type": "code",
   "execution_count": null,
   "metadata": {},
   "outputs": [],
   "source": []
  }
 ],
 "metadata": {
  "kernelspec": {
   "display_name": "Python 3",
   "language": "python",
   "name": "python3"
  },
  "language_info": {
   "codemirror_mode": {
    "name": "ipython",
    "version": 3
   },
   "file_extension": ".py",
   "mimetype": "text/x-python",
   "name": "python",
   "nbconvert_exporter": "python",
   "pygments_lexer": "ipython3",
   "version": "3.6.6"
  }
 },
 "nbformat": 4,
 "nbformat_minor": 2
}
